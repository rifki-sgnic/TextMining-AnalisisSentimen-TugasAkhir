{
 "cells": [
  {
   "cell_type": "code",
   "execution_count": null,
   "metadata": {},
   "outputs": [],
   "source": [
    "import tweepy\n",
    "import pandas as pd\n",
    "import numpy as np\n",
    "from datetime import datetime, timezone"
   ]
  },
  {
   "cell_type": "code",
   "execution_count": null,
   "metadata": {},
   "outputs": [],
   "source": [
    "access_token = \"288065695-T1KnKCscVnYFNMAwxs1CJsuC3Vyn8lp6soPIkrQF\"\n",
    "access_token_secret = \"ICiTbUCNGBdovuTl90PLPk4kDsT9Fb1F4UpK7rVpus0ZT\"\n",
    "api_key = \"JGwNk3Lxd0swK18y8cTBuwBUw\"\n",
    "api_key_secret = \"nq61M5tYcbpciBumCCWrkLNg2weYPDNDtJNWge9050K89qHtyl\"\n",
    "\n",
    "auth = tweepy.OAuthHandler(api_key, api_key_secret)\n",
    "auth.set_access_token(access_token, access_token_secret)\n",
    "api = tweepy.API(auth, wait_on_rate_limit=True)"
   ]
  },
  {
   "cell_type": "code",
   "execution_count": null,
   "metadata": {},
   "outputs": [],
   "source": [
    "#Search Tweets\n",
    "tweetsPerQuery = 100\n",
    "tweetCount = 0 #menghitung tweet yang di retrieve\n",
    "maxTweets = 1500 #max tweet yang ingin diambil\n",
    "maxId = -1 #temp id untuk searching\n",
    "\n",
    "tanggal_awal = '2022-06-11'\n",
    "tanggal_akhir = '2022-06-16'\n",
    "\n",
    "startDate = datetime.strptime(tanggal_awal, '%Y-%m-%d')\n",
    "startDate = startDate.replace(tzinfo=timezone.utc)\n",
    "endDate = datetime.strptime(tanggal_akhir, '%Y-%m-%d')\n",
    "endDate = endDate.replace(hour=23, minute=59, second=59, tzinfo=timezone.utc)\n",
    "\n",
    "search_key = \"harga tiket candi borobudur\"\n",
    "\n",
    "tweets = []\n",
    "\n",
    "while tweetCount < maxTweets:\n",
    "    if maxId <= 0:\n",
    "        newTweets = api.search_tweets(q=search_key + ' -filter:retweets', lang='id', count=tweetsPerQuery, result_type=\"recent\", tweet_mode=\"extended\")\n",
    "    \n",
    "    newTweets = api.search_tweets(q=search_key + ' -filter:retweets', lang='id', count=tweetsPerQuery, result_type=\"recent\", tweet_mode=\"extended\", max_id=str(maxId-1))\n",
    "    \n",
    "    if not newTweets:\n",
    "        print(\"tweet habis\")\n",
    "        break\n",
    "        \n",
    "    for tweet in newTweets:\n",
    "        print('Tweet @', tweet.created_at, ' - Berjalan...')\n",
    "        tweets.append(tweet._json)\n",
    "            \n",
    "    tweetCount += len(newTweets)\n",
    "    maxId = newTweets[-1].id"
   ]
  },
  {
   "cell_type": "code",
   "execution_count": null,
   "metadata": {},
   "outputs": [],
   "source": [
    "def save_excel(tweets):\n",
    "    file_excel = 'excel_data/data_crawling(' + datetime.today().strftime('%d-%m-%Y') + ')_hargatiketcandiborobudur.xlsx'\n",
    "    \n",
    "    id = []\n",
    "    text = []\n",
    "    username = []\n",
    "    created_at = []\n",
    "    \n",
    "    for tweet in tweets:\n",
    "        id.append(tweet['id'])\n",
    "        text.append(str(tweet['full_text']))\n",
    "        username.append(str(tweet['user']['screen_name']))\n",
    "        created_at.append(str(tweet['created_at']))\n",
    "        \n",
    "    data_frame = pd.DataFrame({'id': id, 'text': text, 'username': username, 'created_at': created_at})\n",
    "    data_frame.to_excel(file_excel, index=False)\n",
    "    \n",
    "    print('File excel telah dibuat')\n",
    "    \n",
    "    return None"
   ]
  }
 ],
 "metadata": {
  "language_info": {
   "name": "python"
  },
  "orig_nbformat": 4
 },
 "nbformat": 4,
 "nbformat_minor": 2
}
