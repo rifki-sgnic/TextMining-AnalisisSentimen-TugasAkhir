{
 "cells": [
  {
   "cell_type": "code",
   "execution_count": 1,
   "metadata": {},
   "outputs": [],
   "source": [
    "import mysql.connector as sql"
   ]
  },
  {
   "cell_type": "code",
   "execution_count": 2,
   "metadata": {},
   "outputs": [],
   "source": [
    "class Models:\n",
    "    def __init__(self, query):\n",
    "        self.query = query\n",
    "        self.conn = sql.connect(\n",
    "                        host = \"localhost\",\n",
    "                        user=\"root\",\n",
    "                        passwd = \"\",\n",
    "                        database = \"db_ta_1811501327\"\n",
    "                    )\n",
    "        self.curr = self.conn.cursor()\n",
    "        \n",
    "    def select(self):\n",
    "        self.curr.execute(self.query)\n",
    "        row_headers = [x[0] for x in self.curr.description]\n",
    "        result = self.curr.fetchall()\n",
    "        \n",
    "        self.curr.close()\n",
    "        self.conn.close()\n",
    "        \n",
    "        json_data = []\n",
    "        for data in result:\n",
    "            json_data.append(dict(zip(row_headers, data)))\n",
    "            \n",
    "        return json_data\n",
    "    \n",
    "    def query_sql(self, values):\n",
    "        self.curr.execute(self.query, values)\n",
    "        self.conn.commit()\n",
    "        self.curr.close()\n",
    "    \n",
    "    def query_sql_multiple(self, values):\n",
    "        self.curr.executemany(self.query, values)\n",
    "        self.conn.commit()\n",
    "        self.curr.close()\n",
    "        \n",
    "    def query_deleteAll(self):\n",
    "        self.curr.execute(self.query)\n",
    "        self.conn.commit()"
   ]
  },
  {
   "cell_type": "code",
   "execution_count": 3,
   "metadata": {},
   "outputs": [],
   "source": [
    "instance_model = Models('SELECT id, clean_text FROM tbl_tweet_preprocessing WHERE label IS NULL')\n",
    "data_no_label = instance_model.select()\n",
    "\n",
    "instance_model = Models('SELECT positive_word FROM tbl_lexicon_positive')\n",
    "lexicon_positif = instance_model.select()\n",
    "\n",
    "instance_model = Models('SELECT negative_word FROM tbl_lexicon_negative')\n",
    "lexicon_negatif = instance_model.select()"
   ]
  },
  {
   "cell_type": "code",
   "execution_count": 4,
   "metadata": {},
   "outputs": [],
   "source": [
    "teks_data = []\n",
    "skor_data = []\n",
    "total_positif = []\n",
    "total_negatif = []\n",
    "jumlah_netral = 0"
   ]
  },
  {
   "cell_type": "code",
   "execution_count": 5,
   "metadata": {},
   "outputs": [
    {
     "name": "stdout",
     "output_type": "stream",
     "text": [
      "\n",
      "-- PROSES 0 DATA --\n",
      "\n",
      "SELESAI\n",
      "\n"
     ]
    }
   ],
   "source": [
    "data_ubah = []\n",
    "\n",
    "print('\\n-- PROSES '+ str(len(data_no_label)) +' DATA --')\n",
    "\n",
    "for index, data in enumerate(data_no_label):\n",
    "    skor = 0\n",
    "    jumlah_positif = 0\n",
    "    jumlah_negatif = 0\n",
    "    # Menghitung jumlah skor pada teks bersih dengan kamus\n",
    "    for clean_text in data['clean_text'].split(): # Tokenizing\n",
    "        for data_p in lexicon_positif:\t# loop data kata positif\n",
    "            if clean_text == data_p['positive_word']:\n",
    "                skor += 1\n",
    "                jumlah_positif += 1\n",
    "                break\n",
    "\n",
    "        for data_n in lexicon_negatif:\t# loop data kata negatif\n",
    "            if clean_text == data_n['negative_word']:\n",
    "                skor -= 1\n",
    "                jumlah_negatif += 1\n",
    "                break\n",
    "\n",
    "    if skor > 0:\n",
    "        label = 'positif'\n",
    "    elif skor < 0:\n",
    "        label = 'negatif'\n",
    "    else:\n",
    "        label = 'netral'\n",
    "        jumlah_netral += 1\n",
    "\n",
    "    try:\n",
    "        data_ubah.append((label, data['id']))\n",
    "    except:\n",
    "        print('\\nGagal mengubah data'+ str(data_ubah['id']) +'\\n')\n",
    "    print(index+1)\n",
    "    \n",
    "    instance_model = Models('UPDATE tbl_tweet_preprocessing SET label=%s WHERE id=%s')\n",
    "    instance_model.query_sql_multiple(data_ubah)\n",
    "\n",
    "print('\\nSELESAI\\n')\n"
   ]
  }
 ],
 "metadata": {
  "kernelspec": {
   "display_name": "Python 3.8.13 ('text_mining')",
   "language": "python",
   "name": "python3"
  },
  "language_info": {
   "codemirror_mode": {
    "name": "ipython",
    "version": 3
   },
   "file_extension": ".py",
   "mimetype": "text/x-python",
   "name": "python",
   "nbconvert_exporter": "python",
   "pygments_lexer": "ipython3",
   "version": "3.8.13"
  },
  "orig_nbformat": 4,
  "vscode": {
   "interpreter": {
    "hash": "219cefa87ca55842388a8a3ac83bd1c9f79ae6096f0e88752c32e7841052c440"
   }
  }
 },
 "nbformat": 4,
 "nbformat_minor": 2
}
