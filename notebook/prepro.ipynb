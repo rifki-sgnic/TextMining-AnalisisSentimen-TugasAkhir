{
 "cells": [
  {
   "cell_type": "code",
   "execution_count": 3,
   "metadata": {},
   "outputs": [],
   "source": [
    "import pandas as pd\n",
    "import numpy as np\n",
    "import mysql.connector as sql\n",
    "import re\n",
    "from Sastrawi.Stemmer.StemmerFactory import StemmerFactory"
   ]
  },
  {
   "cell_type": "code",
   "execution_count": 2,
   "metadata": {},
   "outputs": [],
   "source": [
    "class Models:\n",
    "    def __init__(self, query):\n",
    "        self.query = query\n",
    "        self.conn = sql.connect(\n",
    "                        host = \"localhost\",\n",
    "                        user=\"root\",\n",
    "                        passwd = \"\",\n",
    "                        database = \"db_ta_1811501327\"\n",
    "                    )\n",
    "        self.curr = self.conn.cursor()\n",
    "        \n",
    "    def select(self):\n",
    "        self.curr.execute(self.query)\n",
    "        row_headers = [x[0] for x in self.curr.description]\n",
    "        result = self.curr.fetchall()\n",
    "        \n",
    "        self.curr.close()\n",
    "        self.conn.close()\n",
    "        \n",
    "        json_data = []\n",
    "        for data in result:\n",
    "            json_data.append(dict(zip(row_headers, data)))\n",
    "            \n",
    "        return json_data\n",
    "    \n",
    "    def query_sql(self, values):\n",
    "        self.curr.execute(self.query, values)\n",
    "        self.conn.commit()\n",
    "        self.curr.close()\n",
    "    \n",
    "    def query_sql_multiple(self, values):\n",
    "        self.curr.executemany(self.query, values)\n",
    "        self.conn.commit()\n",
    "        self.curr.close()\n",
    "        \n",
    "    def query_deleteAll(self):\n",
    "        self.curr.execute(self.query)\n",
    "        self.conn.commit()"
   ]
  },
  {
   "cell_type": "code",
   "execution_count": null,
   "metadata": {},
   "outputs": [],
   "source": [
    "result_text = data['text'].lower() # Casefolding\n",
    "casefold = result_text\n",
    "                \n",
    "# Cleaning\n",
    "result_text = re.sub(r'http\\S+|@\\S+|#\\S+|\\d+', '', result_text) # Menghapus mention, hashtag, link\n",
    "result_text = re.sub(r'[^a-z ]', ' ', result_text)   # Mengubah karakter selain huruf a-z menjadi spasi\n",
    "result_text = result_text.strip()   # Menghapus spasi berlebih di akhir kata\n",
    "result_text = re.sub('\\s+', ' ', result_text) # Menghapus spasi berlebih di antara kata\n",
    "cleansing = result_text\n",
    "                \n",
    "# Change slangwords\n",
    "for slang in slangwords:\n",
    "    if slang['slangword'] in result_text:\n",
    "        result_text = re.sub(r'\\b{}\\b'.format(slang['slangword']), slang['kata_asli'], result_text)\n",
    "slangword = result_text\n",
    "                \n",
    "# Remove stopwords\n",
    "for stop in stopwords:\n",
    "    if stop['stopword'] in result_text:\n",
    "        result_text = re.sub(r'\\b{}\\b'.format(stop['stopword']), '', result_text)\n",
    "        stopword = result_text\n",
    "                \n",
    "    # Stemming\n",
    "    result_text = stemmer.stem(result_text)\n",
    "    stemming = result_text\n"
   ]
  },
  {
   "cell_type": "code",
   "execution_count": 5,
   "metadata": {},
   "outputs": [
    {
     "name": "stdout",
     "output_type": "stream",
     "text": [
      "jalan\n"
     ]
    }
   ],
   "source": [
    "instance_stemming = StemmerFactory()\n",
    "stemmer = instance_stemming.create_stemmer()\n",
    "\n",
    "teks = 'Berjalan'\n",
    "\n",
    "teks = stemmer.stem(teks)\n",
    "stemming = teks\n",
    "\n",
    "print(stemming)"
   ]
  },
  {
   "cell_type": "code",
   "execution_count": 9,
   "metadata": {},
   "outputs": [],
   "source": [
    "test = 'Tunggu pahlawan datang untuk batalkan kenaikan. Seperti waktu batalkan tarif kenaikan di candi Borobudur'\n",
    "\n"
   ]
  },
  {
   "cell_type": "code",
   "execution_count": null,
   "metadata": {},
   "outputs": [],
   "source": []
  }
 ],
 "metadata": {
  "kernelspec": {
   "display_name": "Python 3.8.13 ('text_mining')",
   "language": "python",
   "name": "python3"
  },
  "language_info": {
   "codemirror_mode": {
    "name": "ipython",
    "version": 3
   },
   "file_extension": ".py",
   "mimetype": "text/x-python",
   "name": "python",
   "nbconvert_exporter": "python",
   "pygments_lexer": "ipython3",
   "version": "3.8.13"
  },
  "orig_nbformat": 4,
  "vscode": {
   "interpreter": {
    "hash": "219cefa87ca55842388a8a3ac83bd1c9f79ae6096f0e88752c32e7841052c440"
   }
  }
 },
 "nbformat": 4,
 "nbformat_minor": 2
}
